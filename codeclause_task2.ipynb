{
  "cells": [
    {
      "cell_type": "markdown",
      "source": [
        "![1650000445227.jpg](data:image/jpeg;base64,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)"
      ],
      "metadata": {
        "id": "KpLvRtakF2Us"
      }
    },
    {
      "cell_type": "markdown",
      "metadata": {
        "id": "pwneQGYYCEBC"
      },
      "source": [
        "#**TASK -2 Market Basket Analysis in Python using Apriori Algorithm:**\n",
        "\n",
        "\n",
        "\n",
        "NAME:G.HARINISRI\n",
        "\n",
        "\n",
        "First Task: Implement the Apriori algorithm to find all frequent patterns under different settings of the minimum frequency (minimum support/#transactions). Vary the minimum frequency minFreq as 0.0001, 0.0002, 0.0003, 0.0004 and 0.0005. Report the number of frequent patterns, as well as the number of size-K frequent patterns for each size with at least one frequent pattern, under each setting of minFreq.\n",
        "\n",
        "Second Task: Try to optimize your algorithm using acceleration techniques. Try to make your algorithm finish computing for the task in (1) within 10 mins. Explain each specific acceleration you adopt by providing a running time comparison between adopting the acceleration and not adopting the acceleration."
      ]
    },
    {
      "cell_type": "markdown",
      "metadata": {
        "id": "3gipxETmCED4"
      },
      "source": [
        "IMPORTING THE PACKAGES"
      ]
    },
    {
      "cell_type": "code",
      "execution_count": 1,
      "metadata": {
        "id": "Dvj9lrM2Cfav"
      },
      "outputs": [],
      "source": [
        "from collections import defaultdict\n",
        "from itertools import combinations\n",
        "from datetime import datetime"
      ]
    },
    {
      "cell_type": "code",
      "execution_count": 2,
      "metadata": {
        "id": "Qmo4YqDiCiFd"
      },
      "outputs": [],
      "source": [
        "def Merge(dict1, dict2):\n",
        "    res = {**dict1, **dict2}\n",
        "    return res"
      ]
    },
    {
      "cell_type": "code",
      "execution_count": 3,
      "metadata": {
        "id": "o9Gxajy-CvG5"
      },
      "outputs": [],
      "source": [
        "class Apriori:\n",
        "    def __init__(self, filename):\n",
        "        self.Transactions = list()\n",
        "        self.C_one = defaultdict(int)\n",
        "        self.file = filename\n",
        "        self.L_one = defaultdict(int)\n",
        "        self.K = 1\n",
        "        self.GlobalFreqItem = defaultdict(int)\n",
        "    \n",
        "    def Return_TBD(self):\n",
        "        return self.Transactions\n",
        "    \n",
        "    def ExtractData(self):\n",
        "        with open(self.file,'r') as file:\n",
        "            data = file.readlines()\n",
        "            for i in data:\n",
        "                temp = frozenset(map(int,i.split()))\n",
        "                self.Transactions.append(temp)\n",
        "                \n",
        "                for item in temp:\n",
        "                    self.C_one[frozenset([item])] +=1\n",
        "\n",
        "    def Extract_Freq_Items(self,C_k,threshold):\n",
        "        return {k:v for k,v in C_k.items() if v >= threshold}\n",
        "    \n",
        "    def Candidate_Generation(self,prev_freq_items,k):\n",
        "        return set([i.union(j) for i in prev_freq_items for j in prev_freq_items if len(i.union(j)) == k])\n",
        "    \n",
        "    def Count_Support(self,Candidates_Set,k):\n",
        "        C_k = defaultdict(int)\n",
        "        for i in self.Transactions:\n",
        "            if len(i) == k:\n",
        "                if i in Candidates_Set:\n",
        "                    C_k[i] += 1\n",
        "            elif len(i) > k:\n",
        "                subsets = list(combinations(i,k))\n",
        "                for j in subsets:\n",
        "                    if frozenset(j) in Candidates_Set:\n",
        "                        C_k[frozenset(j)] += 1\n",
        "        return C_k\n",
        "    \n",
        "    def apriori(self,Min_Freq):\n",
        "        start_time = datetime.now()\n",
        "        self.ExtractData()\n",
        "        min_sup = Min_Freq*len(self.Transactions)\n",
        "        self.L_one = self.Extract_Freq_Items(self.C_one,min_sup)\n",
        "        prev_freq_items = self.L_one.copy()\n",
        "        self.GlobalFreqItem[self.K] = prev_freq_items\n",
        "        while (len(prev_freq_items) > 0):\n",
        "            candidates = self.Candidate_Generation(prev_freq_items.keys(),self.K+1)\n",
        "            C_k = self.Count_Support(candidates,self.K+1)\n",
        "            prev_freq_items = self.Extract_Freq_Items(C_k,min_sup)\n",
        "            self.K+=1\n",
        "            self.GlobalFreqItem[self.K] = prev_freq_items\n",
        "\n",
        "        end_time = datetime.now()\n",
        "        time_taken = end_time - start_time\n",
        "\n",
        "        return self.GlobalFreqItem,time_taken"
      ]
    },
    {
      "cell_type": "code",
      "execution_count": 5,
      "metadata": {
        "id": "fdyvdMu1JRmL"
      },
      "outputs": [],
      "source": [
        "Time = list()\n",
        "Patterns = {}\n",
        "for i in [0.0001,0.0002,0.0003,0.0004,0.0005]:\n",
        "    Patterns[i] = {}\n",
        "    apriori = Apriori('/content/drive/MyDrive/CODECLAUSE INTERNSHIP/trans.txt')\n",
        "    Items,T = apriori.apriori(Min_Freq=i)\n",
        "    Time.append(T)\n",
        "    for j in range(1,len(Items)):\n",
        "        Patterns[i] = Merge(Items[j],Patterns[i])"
      ]
    },
    {
      "cell_type": "code",
      "source": [
        "import math\n",
        "delta = 0.01\n",
        "epsilon = 0.005\n",
        "D = 7\n",
        "sample_size = int(1/(math.pow(epsilon,2))*(D + math.log10(1/delta)))\n",
        "print(sample_size)"
      ],
      "metadata": {
        "colab": {
          "base_uri": "https://localhost:8080/"
        },
        "id": "50fSY6WSHgzp",
        "outputId": "5b9ef4a5-b34b-4080-d228-4379b3fa07df"
      },
      "execution_count": 6,
      "outputs": [
        {
          "output_type": "stream",
          "name": "stdout",
          "text": [
            "360000\n"
          ]
        }
      ]
    },
    {
      "cell_type": "code",
      "source": [
        "import random\n",
        "from random import sample\n",
        "random.seed(25)"
      ],
      "metadata": {
        "id": "gmnezO8NHoRg"
      },
      "execution_count": 7,
      "outputs": []
    },
    {
      "cell_type": "code",
      "source": [
        "class Sample_Apriori:\n",
        "    def __init__(self, filename):\n",
        "        self.Transactions = list()\n",
        "        self.Sample_Transactions = list()\n",
        "        self.C_one = defaultdict(int)\n",
        "        self.file = filename\n",
        "        self.L_one = defaultdict(int)\n",
        "        self.K = 1\n",
        "        self.GlobalFreqItem = defaultdict(int)\n",
        "    \n",
        "    def Return_TBD(self,sample_size):\n",
        "        return self.Transactions\n",
        "    \n",
        "    def ExtractData(self,sample_size):\n",
        "        with open(self.file,'r') as file:\n",
        "            data = file.readlines()\n",
        "            for i in data:\n",
        "                temp = frozenset(map(int,i.split()))\n",
        "                self.Transactions.append(temp)\n",
        "        \n",
        "        self.Sample_Transactions = sample(self.Transactions,sample_size)\n",
        "        for i in self.Sample_Transactions:\n",
        "            for item in i:\n",
        "                self.C_one[frozenset([item])] +=1\n",
        "\n",
        "    def Extract_Freq_Items(self,C_k,threshold):\n",
        "        return {k:v for k,v in C_k.items() if v >= threshold}\n",
        "    \n",
        "    def Candidate_Generation(self,prev_freq_items,k):\n",
        "        return set([i.union(j) for i in prev_freq_items for j in prev_freq_items if len(i.union(j)) == k])\n",
        "    \n",
        "    def Count_Support(self,Candidates_Set,k):\n",
        "        C_k = defaultdict(int)\n",
        "        for i in self.Sample_Transactions:\n",
        "            if len(i) == k:\n",
        "                if i in Candidates_Set:\n",
        "                    C_k[i] += 1\n",
        "            elif len(i) > k:\n",
        "                subsets = list(combinations(i,k))\n",
        "                for j in subsets:\n",
        "                    if frozenset(j) in Candidates_Set:\n",
        "                        C_k[frozenset(j)] += 1\n",
        "        return C_k\n",
        "    \n",
        "    def apriori(self,Min_Freq,sample_size):\n",
        "        start_time = datetime.now()\n",
        "        self.ExtractData(sample_size)\n",
        "        min_sup = Min_Freq*len(self.Sample_Transactions)\n",
        "        self.L_one = self.Extract_Freq_Items(self.C_one,min_sup)\n",
        "        prev_freq_items = self.L_one.copy()\n",
        "        self.GlobalFreqItem[self.K] = prev_freq_items\n",
        "        while (len(prev_freq_items) > 0):\n",
        "            candidates = self.Candidate_Generation(prev_freq_items.keys(),self.K+1)\n",
        "            C_k = self.Count_Support(candidates,self.K+1)\n",
        "            prev_freq_items = self.Extract_Freq_Items(C_k,min_sup)\n",
        "            self.K+=1\n",
        "            self.GlobalFreqItem[self.K] = prev_freq_items\n",
        "\n",
        "        end_time = datetime.now()\n",
        "        time_taken = end_time - start_time\n",
        "\n",
        "        return self.GlobalFreqItem,time_taken"
      ],
      "metadata": {
        "id": "nc2rCxuFHoag"
      },
      "execution_count": 8,
      "outputs": []
    },
    {
      "cell_type": "code",
      "source": [
        "Sample_Time = list()\n",
        "Sample_Patterns = {}\n",
        "for i in [0.0001,0.0002,0.0003,0.0004,0.0005]:\n",
        "    Sample_Patterns[i] = {}\n",
        "    apriori = Sample_Apriori('/content/drive/MyDrive/CODECLAUSE INTERNSHIP/trans.txt')\n",
        "    Items,T = apriori.apriori(Min_Freq=i,sample_size=sample_size)\n",
        "    Sample_Time.append(T)\n",
        "    for j in range(1,len(Items)):\n",
        "        Sample_Patterns[i] = Merge(Items[j],Sample_Patterns[i])"
      ],
      "metadata": {
        "id": "RgRQ4fNeHtTn"
      },
      "execution_count": 9,
      "outputs": []
    },
    {
      "cell_type": "code",
      "source": [
        "Time"
      ],
      "metadata": {
        "colab": {
          "base_uri": "https://localhost:8080/"
        },
        "id": "fYguaMbYHvp0",
        "outputId": "ea62aa64-4bb1-49d9-d571-920cedaaf7a2"
      },
      "execution_count": 10,
      "outputs": [
        {
          "output_type": "execute_result",
          "data": {
            "text/plain": [
              "[datetime.timedelta(seconds=104, microseconds=552380),\n",
              " datetime.timedelta(seconds=42, microseconds=526434),\n",
              " datetime.timedelta(seconds=31, microseconds=849188),\n",
              " datetime.timedelta(seconds=23, microseconds=484034),\n",
              " datetime.timedelta(seconds=21, microseconds=615383)]"
            ]
          },
          "metadata": {},
          "execution_count": 10
        }
      ]
    },
    {
      "cell_type": "code",
      "source": [
        "Sample_Time"
      ],
      "metadata": {
        "colab": {
          "base_uri": "https://localhost:8080/"
        },
        "id": "pLvw2UsAH2Jw",
        "outputId": "eb115325-5cec-400c-e141-fcc3b2f02f0f"
      },
      "execution_count": 11,
      "outputs": [
        {
          "output_type": "execute_result",
          "data": {
            "text/plain": [
              "[datetime.timedelta(seconds=94, microseconds=613618),\n",
              " datetime.timedelta(seconds=31, microseconds=937774),\n",
              " datetime.timedelta(seconds=24, microseconds=402582),\n",
              " datetime.timedelta(seconds=18, microseconds=959883),\n",
              " datetime.timedelta(seconds=16, microseconds=40119)]"
            ]
          },
          "metadata": {},
          "execution_count": 11
        }
      ]
    },
    {
      "cell_type": "code",
      "source": [
        "False_Negatives = {}\n",
        "for i in Patterns.keys():\n",
        "    False_Negatives[i] = {k:v for k,v in Patterns[i].items() if k not in Sample_Patterns[i]}"
      ],
      "metadata": {
        "id": "CbhFgCQhH2vK"
      },
      "execution_count": 12,
      "outputs": []
    },
    {
      "cell_type": "code",
      "source": [
        "False_Positives = {}\n",
        "for i in Patterns.keys():\n",
        "    False_Positives[i] = {k:v for k,v in Sample_Patterns[i].items() if k not in Patterns[i]}"
      ],
      "metadata": {
        "id": "qU-IoxRXH2zY"
      },
      "execution_count": 14,
      "outputs": []
    },
    {
      "cell_type": "code",
      "source": [
        "for i in False_Negatives.keys():\n",
        "    print(\"False Negatives with min freq = {} :\".format(i),len(False_Negatives[i]))"
      ],
      "metadata": {
        "colab": {
          "base_uri": "https://localhost:8080/"
        },
        "id": "b1MOOB26H21e",
        "outputId": "9da205cd-a385-4985-c434-19fe5e5c9b4e"
      },
      "execution_count": 16,
      "outputs": [
        {
          "output_type": "stream",
          "name": "stdout",
          "text": [
            "False Negatives with min freq = 0.0001 : 821\n",
            "False Negatives with min freq = 0.0002 : 255\n",
            "False Negatives with min freq = 0.0003 : 165\n",
            "False Negatives with min freq = 0.0004 : 95\n",
            "False Negatives with min freq = 0.0005 : 54\n"
          ]
        }
      ]
    },
    {
      "cell_type": "code",
      "source": [
        "for i in False_Positives.keys():\n",
        "    print(\"False Positives with min freq = {} :\".format(i),len(False_Positives[i]))"
      ],
      "metadata": {
        "colab": {
          "base_uri": "https://localhost:8080/"
        },
        "id": "MGgcPb-KH23v",
        "outputId": "dbda099c-3f6f-4a37-d619-6680fc1aad5b"
      },
      "execution_count": 17,
      "outputs": [
        {
          "output_type": "stream",
          "name": "stdout",
          "text": [
            "False Positives with min freq = 0.0001 : 1200\n",
            "False Positives with min freq = 0.0002 : 382\n",
            "False Positives with min freq = 0.0003 : 161\n",
            "False Positives with min freq = 0.0004 : 123\n",
            "False Positives with min freq = 0.0005 : 76\n"
          ]
        }
      ]
    },
    {
      "cell_type": "markdown",
      "source": [
        "Market Basket Analysis using Apriori Algorithm on grocery data for generating frequent item sets that are purchased together. The findings from the Apriori Alorithm can be used by the Marketing Team to formulate strategies for increasing sales."
      ],
      "metadata": {
        "id": "7-ZPOjEYKcui"
      }
    },
    {
      "cell_type": "code",
      "source": [
        "### Importing the required libraries.\n",
        "##\n",
        "\n",
        "import numpy as np\n",
        "import pandas as pd\n",
        "import matplotlib as mp\n",
        "from   matplotlib import pyplot as plt\n",
        "from   mlxtend.frequent_patterns import apriori as ap\n",
        "from   mlxtend.frequent_patterns import association_rules as ar"
      ],
      "metadata": {
        "id": "7n3cj0QzH27U"
      },
      "execution_count": 18,
      "outputs": []
    },
    {
      "cell_type": "code",
      "source": [
        "## Let's import the dataset from local system.\n",
        "##\n",
        "\n",
        "csv_path = '/content/drive/MyDrive/CODECLAUSE INTERNSHIP/items_purchased_data.csv'\n",
        "items_data_df  = pd.read_csv(csv_path, header=None)\n",
        "print(items_data_df.head())"
      ],
      "metadata": {
        "colab": {
          "base_uri": "https://localhost:8080/"
        },
        "id": "oW_CiB2kH2-0",
        "outputId": "0691ca2a-bbc8-411e-e8fe-2b7dd11d652b"
      },
      "execution_count": 20,
      "outputs": [
        {
          "output_type": "stream",
          "name": "stdout",
          "text": [
            "              0          1           2                 3             4   \\\n",
            "0         shrimp    almonds     avocado    vegetables mix  green grapes   \n",
            "1        burgers  meatballs        eggs               NaN           NaN   \n",
            "2        chutney        NaN         NaN               NaN           NaN   \n",
            "3         turkey    avocado         NaN               NaN           NaN   \n",
            "4  mineral water       milk  energy bar  whole wheat rice     green tea   \n",
            "\n",
            "                 5     6               7             8             9   \\\n",
            "0  whole weat flour  yams  cottage cheese  energy drink  tomato juice   \n",
            "1               NaN   NaN             NaN           NaN           NaN   \n",
            "2               NaN   NaN             NaN           NaN           NaN   \n",
            "3               NaN   NaN             NaN           NaN           NaN   \n",
            "4               NaN   NaN             NaN           NaN           NaN   \n",
            "\n",
            "               10         11     12     13             14      15  \\\n",
            "0  low fat yogurt  green tea  honey  salad  mineral water  salmon   \n",
            "1             NaN        NaN    NaN    NaN            NaN     NaN   \n",
            "2             NaN        NaN    NaN    NaN            NaN     NaN   \n",
            "3             NaN        NaN    NaN    NaN            NaN     NaN   \n",
            "4             NaN        NaN    NaN    NaN            NaN     NaN   \n",
            "\n",
            "                  16               17       18         19  \n",
            "0  antioxydant juice  frozen smoothie  spinach  olive oil  \n",
            "1                NaN              NaN      NaN        NaN  \n",
            "2                NaN              NaN      NaN        NaN  \n",
            "3                NaN              NaN      NaN        NaN  \n",
            "4                NaN              NaN      NaN        NaN  \n"
          ]
        }
      ]
    },
    {
      "cell_type": "code",
      "source": [
        "## Majority of the records have Na or NaN. Let's analyze how many unique values we have.\n",
        "##\n",
        "\n",
        "unique_items = (items_data_df[0].unique())\n",
        "print(unique_items)\n"
      ],
      "metadata": {
        "colab": {
          "base_uri": "https://localhost:8080/"
        },
        "id": "jLCTFk7ZH3Bj",
        "outputId": "e5557098-c12e-4e3d-b8f8-3c3a58cb24d0"
      },
      "execution_count": 21,
      "outputs": [
        {
          "output_type": "stream",
          "name": "stdout",
          "text": [
            "['shrimp' 'burgers' 'chutney' 'turkey' 'mineral water' 'low fat yogurt'\n",
            " 'whole wheat pasta' 'soup' 'frozen vegetables' 'french fries' 'eggs'\n",
            " 'cookies' 'spaghetti' 'meatballs' 'red wine' 'rice' 'parmesan cheese'\n",
            " 'ground beef' 'sparkling water' 'herb & pepper' 'pickles' 'energy bar'\n",
            " 'fresh tuna' 'escalope' 'avocado' 'tomato sauce' 'clothes accessories'\n",
            " 'energy drink' 'chocolate' 'grated cheese' 'yogurt cake' 'mint'\n",
            " 'asparagus' 'champagne' 'ham' 'muffins' 'french wine' 'chicken' 'pasta'\n",
            " 'tomatoes' 'pancakes' 'frozen smoothie' 'carrots' 'yams' 'shallot'\n",
            " 'butter' 'light mayo' 'pepper' 'candy bars' 'cooking oil' 'milk'\n",
            " 'green tea' 'bug spray' 'oil' 'olive oil' 'salmon' 'cake' 'almonds'\n",
            " 'salt' 'strong cheese' 'hot dogs' 'pet food' 'whole wheat rice'\n",
            " 'antioxydant juice' 'honey' 'sandwich' 'salad' 'magazines' 'protein bar'\n",
            " 'mayonnaise' 'cider' 'burger sauce' 'green grapes' 'vegetables mix'\n",
            " 'bramble' 'nonfat milk' 'tomato juice' 'green beans' 'strawberries'\n",
            " 'eggplant' 'mushroom cream sauce' 'gums' 'cereals' 'flax seed' 'spinach'\n",
            " 'soda' 'dessert wine' 'corn' 'fresh bread' 'brownies' 'fromage blanc'\n",
            " 'chocolate bread' 'mashed potato' 'gluten free bar' 'cottage cheese'\n",
            " 'whole weat flour' 'chili' 'barbecue sauce' 'light cream'\n",
            " 'mint green tea' 'black tea' 'bacon' 'shampoo' 'blueberries'\n",
            " 'cauliflower' 'extra dark chocolate' 'white wine' 'babies food'\n",
            " 'toothpaste' 'melons' 'ketchup' 'cream' 'hand protein bar' 'body spray'\n",
            " 'oatmeal']\n"
          ]
        }
      ]
    },
    {
      "cell_type": "code",
      "source": [
        "## Based on the unique items we got, we will perform one-hot-encoding.The dataset will be converted to a format that has just 0s or 1s. It can also have True or False.Custom One Hot Encoding Python code for one hot encoding\n",
        "\n",
        "\n",
        "encoded_vals        = []\n",
        "for i, rows in items_data_df.iterrows():\n",
        "\tlabels          = {}\n",
        "\tuncommons       = list(set(unique_items) - set(rows))\n",
        "\tcommons         = list(set(unique_items).intersection(rows))\n",
        "\tfor uc in uncommons:\n",
        "\t\tlabels[uc]  = 0\n",
        "\tfor com in commons:\n",
        "\t\tlabels[com] = 1\n",
        "\tencoded_vals.append(labels)\n",
        "encoded_vals[0]\n",
        "\n",
        "encode_df           = pd.DataFrame(encoded_vals)\n",
        "\n",
        "print(encode_df.head())\n"
      ],
      "metadata": {
        "colab": {
          "base_uri": "https://localhost:8080/"
        },
        "id": "dCtK5GEFK1Dy",
        "outputId": "af6b136b-c52d-4bf5-be52-b5d0506bb1bc"
      },
      "execution_count": 22,
      "outputs": [
        {
          "output_type": "stream",
          "name": "stdout",
          "text": [
            "   body spray  mint green tea  extra dark chocolate  cauliflower  light mayo  \\\n",
            "0           0               0                     0            0           0   \n",
            "1           0               0                     0            0           0   \n",
            "2           0               0                     0            0           0   \n",
            "3           0               0                     0            0           0   \n",
            "4           0               0                     0            0           0   \n",
            "\n",
            "   salt  parmesan cheese  rice  burger sauce  gluten free bar  ...  yams  \\\n",
            "0     0                0     0             0                0  ...     1   \n",
            "1     0                0     0             0                0  ...     0   \n",
            "2     0                0     0             0                0  ...     0   \n",
            "3     0                0     0             0                0  ...     0   \n",
            "4     0                0     0             0                0  ...     0   \n",
            "\n",
            "   honey  low fat yogurt  whole weat flour  frozen smoothie  spinach  salad  \\\n",
            "0      1               1                 1                1        1      1   \n",
            "1      0               0                 0                0        0      0   \n",
            "2      0               0                 0                0        0      0   \n",
            "3      0               0                 0                0        0      0   \n",
            "4      0               0                 0                0        0      0   \n",
            "\n",
            "   green grapes  energy drink  mineral water  \n",
            "0             1             1              1  \n",
            "1             0             0              0  \n",
            "2             0             0              0  \n",
            "3             0             0              0  \n",
            "4             0             0              1  \n",
            "\n",
            "[5 rows x 115 columns]\n"
          ]
        }
      ]
    },
    {
      "cell_type": "code",
      "source": [
        "## Defining the apriori algorithm.\n",
        "freq_items = ap(encode_df, min_support=0.0085, use_colnames=True  )\n",
        "print(freq_items.head())\n"
      ],
      "metadata": {
        "colab": {
          "base_uri": "https://localhost:8080/"
        },
        "id": "EKzmBmCiK6wI",
        "outputId": "469a3f18-504a-4db4-af28-ae4323b4e1c0"
      },
      "execution_count": 26,
      "outputs": [
        {
          "output_type": "stream",
          "name": "stdout",
          "text": [
            "    support                itemsets\n",
            "0  0.011465            (body spray)\n",
            "1  0.011998  (extra dark chocolate)\n",
            "2  0.027196            (light mayo)\n",
            "3  0.009199                  (salt)\n",
            "4  0.019864       (parmesan cheese)\n"
          ]
        }
      ]
    },
    {
      "cell_type": "code",
      "source": [
        "## Defining the association rules algorithms to match and find similar items together based on confidence.\n",
        "\n",
        "assocn_rules_conf   = ar(freq_items, metric=\"confidence\", min_threshold=0.25)\n",
        "print(assocn_rules_conf)"
      ],
      "metadata": {
        "colab": {
          "base_uri": "https://localhost:8080/"
        },
        "id": "ogdlI5PyK96r",
        "outputId": "8bfde232-bdf6-473c-e49a-4a6efd0fa563"
      },
      "execution_count": 27,
      "outputs": [
        {
          "output_type": "stream",
          "name": "stdout",
          "text": [
            "                      antecedents      consequents  antecedent support  \\\n",
            "0                          (milk)      (spaghetti)            0.129583   \n",
            "1                      (tomatoes)      (spaghetti)            0.068391   \n",
            "2                      (hot dogs)      (spaghetti)            0.032396   \n",
            "3                       (chicken)      (spaghetti)            0.059992   \n",
            "4                        (turkey)      (spaghetti)            0.062525   \n",
            "..                            ...              ...                 ...   \n",
            "132             (chocolate, eggs)  (mineral water)            0.033196   \n",
            "133  (mineral water, ground beef)      (chocolate)            0.040928   \n",
            "134      (chocolate, ground beef)  (mineral water)            0.023064   \n",
            "135     (mineral water, pancakes)      (chocolate)            0.033729   \n",
            "136         (chocolate, pancakes)  (mineral water)            0.019864   \n",
            "\n",
            "     consequent support   support  confidence      lift  leverage  conviction  \n",
            "0              0.174110  0.035462    0.273663  1.571779  0.012900    1.137061  \n",
            "1              0.174110  0.020931    0.306043  1.757755  0.009023    1.190117  \n",
            "2              0.174110  0.008666    0.267490  1.536325  0.003025    1.127479  \n",
            "3              0.174110  0.017198    0.286667  1.646468  0.006752    1.157790  \n",
            "4              0.174110  0.016531    0.264392  1.518535  0.005645    1.122731  \n",
            "..                  ...       ...         ...       ...       ...         ...  \n",
            "132            0.238368  0.013465    0.405622  1.701663  0.005552    1.281394  \n",
            "133            0.163845  0.010932    0.267101  1.630207  0.004226    1.140887  \n",
            "134            0.238368  0.010932    0.473988  1.988472  0.005434    1.447937  \n",
            "135            0.163845  0.009332    0.276680  1.688670  0.003806    1.155996  \n",
            "136            0.238368  0.009332    0.469799  1.970895  0.004597    1.436495  \n",
            "\n",
            "[137 rows x 9 columns]\n"
          ]
        }
      ]
    },
    {
      "cell_type": "code",
      "source": [
        "## Defining the association rules algorithms to match and find similar items together based on support.\n",
        "\n",
        "assocn_rules_supp   = ar(freq_items, metric=\"support\", min_threshold=0.005)\n",
        "print(assocn_rules_supp)"
      ],
      "metadata": {
        "colab": {
          "base_uri": "https://localhost:8080/"
        },
        "id": "m3Q8b9MkLFE1",
        "outputId": "c88b79f5-c8f1-4693-f8c3-5efb3870bb32"
      },
      "execution_count": 28,
      "outputs": [
        {
          "output_type": "stream",
          "name": "stdout",
          "text": [
            "                   antecedents                 consequents  \\\n",
            "0                       (milk)                 (spaghetti)   \n",
            "1                  (spaghetti)                      (milk)   \n",
            "2                   (tomatoes)                 (spaghetti)   \n",
            "3                  (spaghetti)                  (tomatoes)   \n",
            "4               (french fries)                 (spaghetti)   \n",
            "..                         ...                         ...   \n",
            "615  (mineral water, pancakes)                 (chocolate)   \n",
            "616      (chocolate, pancakes)             (mineral water)   \n",
            "617            (mineral water)       (chocolate, pancakes)   \n",
            "618                (chocolate)   (mineral water, pancakes)   \n",
            "619                 (pancakes)  (mineral water, chocolate)   \n",
            "\n",
            "     antecedent support  consequent support   support  confidence      lift  \\\n",
            "0              0.129583            0.174110  0.035462    0.273663  1.571779   \n",
            "1              0.174110            0.129583  0.035462    0.203675  1.571779   \n",
            "2              0.068391            0.174110  0.020931    0.306043  1.757755   \n",
            "3              0.174110            0.068391  0.020931    0.120214  1.757755   \n",
            "4              0.170911            0.174110  0.027596    0.161466  0.927381   \n",
            "..                  ...                 ...       ...         ...       ...   \n",
            "615            0.033729            0.163845  0.009332    0.276680  1.688670   \n",
            "616            0.019864            0.238368  0.009332    0.469799  1.970895   \n",
            "617            0.238368            0.019864  0.009332    0.039150  1.970895   \n",
            "618            0.163845            0.033729  0.009332    0.056957  1.688670   \n",
            "619            0.095054            0.052660  0.009332    0.098177  1.864363   \n",
            "\n",
            "     leverage  conviction  \n",
            "0    0.012900    1.137061  \n",
            "1    0.012900    1.093043  \n",
            "2    0.009023    1.190117  \n",
            "3    0.009023    1.058905  \n",
            "4   -0.002161    0.984922  \n",
            "..        ...         ...  \n",
            "615  0.003806    1.155996  \n",
            "616  0.004597    1.436495  \n",
            "617  0.004597    1.020072  \n",
            "618  0.003806    1.024631  \n",
            "619  0.004327    1.050472  \n",
            "\n",
            "[620 rows x 9 columns]\n"
          ]
        }
      ]
    },
    {
      "cell_type": "code",
      "source": [
        "## Plotting the scatter plot of Confidence Vs Support\n",
        "\n",
        "plt.scatter(assocn_rules_conf['support'], assocn_rules_conf['confidence'], alpha=0.5)\n",
        "plt.xlabel('support')\n",
        "plt.ylabel('confidence')\n",
        "plt.title('Support vs Confidence')\n",
        "plt.show()\n"
      ],
      "metadata": {
        "colab": {
          "base_uri": "https://localhost:8080/",
          "height": 295
        },
        "id": "L35KETRhLIAv",
        "outputId": "0832f55e-0c56-4cbd-a2a7-d5a5e8ca34cd"
      },
      "execution_count": 29,
      "outputs": [
        {
          "output_type": "display_data",
          "data": {
            "text/plain": [
              "<Figure size 432x288 with 1 Axes>"
            ],
            "image/png": "[encoded data removed]"
          },
          "metadata": {
            "needs_background": "light"
          }
        }
      ]
    },
    {
      "cell_type": "code",
      "source": [
        "## Plotting the scatter plot of Lift Vs Support\n",
        "\n",
        "\n",
        "plt.scatter(assocn_rules_conf['support'], assocn_rules_conf['lift'], alpha=0.5)\n",
        "plt.xlabel('support')\n",
        "plt.ylabel('lift')\n",
        "plt.title('Support vs Lift')\n",
        "plt.show()"
      ],
      "metadata": {
        "colab": {
          "base_uri": "https://localhost:8080/",
          "height": 295
        },
        "id": "PiMwZfFCLKvW",
        "outputId": "29c72cdf-6360-4b45-f4d8-825ffbffe6f5"
      },
      "execution_count": 30,
      "outputs": [
        {
          "output_type": "display_data",
          "data": {
            "text/plain": [
              "<Figure size 432x288 with 1 Axes>"
            ],
            "image/png": "[encoded data removed]"
          },
          "metadata": {
            "needs_background": "light"
          }
        }
      ]
    },
    {
      "cell_type": "code",
      "source": [
        "## Writing the generated rules based on confidence onto a excel file for business use.\n",
        "\n",
        "\n",
        "w1 = pd.ExcelWriter('/content/drive/MyDrive/CODECLAUSE INTERNSHIP/Generated_Rules_conf.xlsx')\n",
        "assocn_rules_conf.to_excel(w1, 'Rules')\n",
        "w1.save() "
      ],
      "metadata": {
        "id": "dT8qtt4NLNZK"
      },
      "execution_count": 32,
      "outputs": []
    },
    {
      "cell_type": "code",
      "source": [
        "w1=pd.read_excel(\"/content/drive/MyDrive/CODECLAUSE INTERNSHIP/Generated_Rules_conf.xlsx\")\n",
        "w1"
      ],
      "metadata": {
        "colab": {
          "base_uri": "https://localhost:8080/",
          "height": 572
        },
        "id": "CFCJEMr0Lkzp",
        "outputId": "57269cd6-8eca-4d6b-9aaa-8e9cceb61d40"
      },
      "execution_count": 36,
      "outputs": [
        {
          "output_type": "execute_result",
          "data": {
            "text/plain": [
              "     Unnamed: 0                                  antecedents  \\\n",
              "0             0                          frozenset({'milk'})   \n",
              "1             1                      frozenset({'tomatoes'})   \n",
              "2             2                      frozenset({'hot dogs'})   \n",
              "3             3                       frozenset({'chicken'})   \n",
              "4             4                        frozenset({'turkey'})   \n",
              "..          ...                                          ...   \n",
              "132         132             frozenset({'chocolate', 'eggs'})   \n",
              "133         133  frozenset({'mineral water', 'ground beef'})   \n",
              "134         134      frozenset({'chocolate', 'ground beef'})   \n",
              "135         135     frozenset({'mineral water', 'pancakes'})   \n",
              "136         136         frozenset({'chocolate', 'pancakes'})   \n",
              "\n",
              "                      consequents  antecedent support  consequent support  \\\n",
              "0        frozenset({'spaghetti'})            0.129583            0.174110   \n",
              "1        frozenset({'spaghetti'})            0.068391            0.174110   \n",
              "2        frozenset({'spaghetti'})            0.032396            0.174110   \n",
              "3        frozenset({'spaghetti'})            0.059992            0.174110   \n",
              "4        frozenset({'spaghetti'})            0.062525            0.174110   \n",
              "..                            ...                 ...                 ...   \n",
              "132  frozenset({'mineral water'})            0.033196            0.238368   \n",
              "133      frozenset({'chocolate'})            0.040928            0.163845   \n",
              "134  frozenset({'mineral water'})            0.023064            0.238368   \n",
              "135      frozenset({'chocolate'})            0.033729            0.163845   \n",
              "136  frozenset({'mineral water'})            0.019864            0.238368   \n",
              "\n",
              "      support  confidence      lift  leverage  conviction  \n",
              "0    0.035462    0.273663  1.571779  0.012900    1.137061  \n",
              "1    0.020931    0.306043  1.757755  0.009023    1.190117  \n",
              "2    0.008666    0.267490  1.536325  0.003025    1.127479  \n",
              "3    0.017198    0.286667  1.646468  0.006752    1.157790  \n",
              "4    0.016531    0.264392  1.518535  0.005645    1.122731  \n",
              "..        ...         ...       ...       ...         ...  \n",
              "132  0.013465    0.405622  1.701663  0.005552    1.281394  \n",
              "133  0.010932    0.267101  1.630207  0.004226    1.140887  \n",
              "134  0.010932    0.473988  1.988472  0.005434    1.447937  \n",
              "135  0.009332    0.276680  1.688670  0.003806    1.155996  \n",
              "136  0.009332    0.469799  1.970895  0.004597    1.436495  \n",
              "\n",
              "[137 rows x 10 columns]"
            ],
            "text/html": [
              "\n",
              "  <div id=\"df-efa57b5c-2daa-485a-9869-a67f26fd01e8\">\n",
              "    <div class=\"colab-df-container\">\n",
              "      <div>\n",
              "<style scoped>\n",
              "    .dataframe tbody tr th:only-of-type {\n",
              "        vertical-align: middle;\n",
              "    }\n",
              "\n",
              "    .dataframe tbody tr th {\n",
              "        vertical-align: top;\n",
              "    }\n",
              "\n",
              "    .dataframe thead th {\n",
              "        text-align: right;\n",
              "    }\n",
              "</style>\n",
              "<table border=\"1\" class=\"dataframe\">\n",
              "  <thead>\n",
              "    <tr style=\"text-align: right;\">\n",
              "      <th></th>\n",
              "      <th>Unnamed: 0</th>\n",
              "      <th>antecedents</th>\n",
              "      <th>consequents</th>\n",
              "      <th>antecedent support</th>\n",
              "      <th>consequent support</th>\n",
              "      <th>support</th>\n",
              "      <th>confidence</th>\n",
              "      <th>lift</th>\n",
              "      <th>leverage</th>\n",
              "      <th>conviction</th>\n",
              "    </tr>\n",
              "  </thead>\n",
              "  <tbody>\n",
              "    <tr>\n",
              "      <th>0</th>\n",
              "      <td>0</td>\n",
              "      <td>frozenset({'milk'})</td>\n",
              "      <td>frozenset({'spaghetti'})</td>\n",
              "      <td>0.129583</td>\n",
              "      <td>0.174110</td>\n",
              "      <td>0.035462</td>\n",
              "      <td>0.273663</td>\n",
              "      <td>1.571779</td>\n",
              "      <td>0.012900</td>\n",
              "      <td>1.137061</td>\n",
              "    </tr>\n",
              "    <tr>\n",
              "      <th>1</th>\n",
              "      <td>1</td>\n",
              "      <td>frozenset({'tomatoes'})</td>\n",
              "      <td>frozenset({'spaghetti'})</td>\n",
              "      <td>0.068391</td>\n",
              "      <td>0.174110</td>\n",
              "      <td>0.020931</td>\n",
              "      <td>0.306043</td>\n",
              "      <td>1.757755</td>\n",
              "      <td>0.009023</td>\n",
              "      <td>1.190117</td>\n",
              "    </tr>\n",
              "    <tr>\n",
              "      <th>2</th>\n",
              "      <td>2</td>\n",
              "      <td>frozenset({'hot dogs'})</td>\n",
              "      <td>frozenset({'spaghetti'})</td>\n",
              "      <td>0.032396</td>\n",
              "      <td>0.174110</td>\n",
              "      <td>0.008666</td>\n",
              "      <td>0.267490</td>\n",
              "      <td>1.536325</td>\n",
              "      <td>0.003025</td>\n",
              "      <td>1.127479</td>\n",
              "    </tr>\n",
              "    <tr>\n",
              "      <th>3</th>\n",
              "      <td>3</td>\n",
              "      <td>frozenset({'chicken'})</td>\n",
              "      <td>frozenset({'spaghetti'})</td>\n",
              "      <td>0.059992</td>\n",
              "      <td>0.174110</td>\n",
              "      <td>0.017198</td>\n",
              "      <td>0.286667</td>\n",
              "      <td>1.646468</td>\n",
              "      <td>0.006752</td>\n",
              "      <td>1.157790</td>\n",
              "    </tr>\n",
              "    <tr>\n",
              "      <th>4</th>\n",
              "      <td>4</td>\n",
              "      <td>frozenset({'turkey'})</td>\n",
              "      <td>frozenset({'spaghetti'})</td>\n",
              "      <td>0.062525</td>\n",
              "      <td>0.174110</td>\n",
              "      <td>0.016531</td>\n",
              "      <td>0.264392</td>\n",
              "      <td>1.518535</td>\n",
              "      <td>0.005645</td>\n",
              "      <td>1.122731</td>\n",
              "    </tr>\n",
              "    <tr>\n",
              "      <th>...</th>\n",
              "      <td>...</td>\n",
              "      <td>...</td>\n",
              "      <td>...</td>\n",
              "      <td>...</td>\n",
              "      <td>...</td>\n",
              "      <td>...</td>\n",
              "      <td>...</td>\n",
              "      <td>...</td>\n",
              "      <td>...</td>\n",
              "      <td>...</td>\n",
              "    </tr>\n",
              "    <tr>\n",
              "      <th>132</th>\n",
              "      <td>132</td>\n",
              "      <td>frozenset({'chocolate', 'eggs'})</td>\n",
              "      <td>frozenset({'mineral water'})</td>\n",
              "      <td>0.033196</td>\n",
              "      <td>0.238368</td>\n",
              "      <td>0.013465</td>\n",
              "      <td>0.405622</td>\n",
              "      <td>1.701663</td>\n",
              "      <td>0.005552</td>\n",
              "      <td>1.281394</td>\n",
              "    </tr>\n",
              "    <tr>\n",
              "      <th>133</th>\n",
              "      <td>133</td>\n",
              "      <td>frozenset({'mineral water', 'ground beef'})</td>\n",
              "      <td>frozenset({'chocolate'})</td>\n",
              "      <td>0.040928</td>\n",
              "      <td>0.163845</td>\n",
              "      <td>0.010932</td>\n",
              "      <td>0.267101</td>\n",
              "      <td>1.630207</td>\n",
              "      <td>0.004226</td>\n",
              "      <td>1.140887</td>\n",
              "    </tr>\n",
              "    <tr>\n",
              "      <th>134</th>\n",
              "      <td>134</td>\n",
              "      <td>frozenset({'chocolate', 'ground beef'})</td>\n",
              "      <td>frozenset({'mineral water'})</td>\n",
              "      <td>0.023064</td>\n",
              "      <td>0.238368</td>\n",
              "      <td>0.010932</td>\n",
              "      <td>0.473988</td>\n",
              "      <td>1.988472</td>\n",
              "      <td>0.005434</td>\n",
              "      <td>1.447937</td>\n",
              "    </tr>\n",
              "    <tr>\n",
              "      <th>135</th>\n",
              "      <td>135</td>\n",
              "      <td>frozenset({'mineral water', 'pancakes'})</td>\n",
              "      <td>frozenset({'chocolate'})</td>\n",
              "      <td>0.033729</td>\n",
              "      <td>0.163845</td>\n",
              "      <td>0.009332</td>\n",
              "      <td>0.276680</td>\n",
              "      <td>1.688670</td>\n",
              "      <td>0.003806</td>\n",
              "      <td>1.155996</td>\n",
              "    </tr>\n",
              "    <tr>\n",
              "      <th>136</th>\n",
              "      <td>136</td>\n",
              "      <td>frozenset({'chocolate', 'pancakes'})</td>\n",
              "      <td>frozenset({'mineral water'})</td>\n",
              "      <td>0.019864</td>\n",
              "      <td>0.238368</td>\n",
              "      <td>0.009332</td>\n",
              "      <td>0.469799</td>\n",
              "      <td>1.970895</td>\n",
              "      <td>0.004597</td>\n",
              "      <td>1.436495</td>\n",
              "    </tr>\n",
              "  </tbody>\n",
              "</table>\n",
              "<p>137 rows × 10 columns</p>\n",
              "</div>\n",
              "      <button class=\"colab-df-convert\" onclick=\"convertToInteractive('df-efa57b5c-2daa-485a-9869-a67f26fd01e8')\"\n",
              "              title=\"Convert this dataframe to an interactive table.\"\n",
              "              style=\"display:none;\">\n",
              "        \n",
              "  <svg xmlns=\"http://www.w3.org/2000/svg\" height=\"24px\"viewBox=\"0 0 24 24\"\n",
              "       width=\"24px\">\n",
              "    <path d=\"M0 0h24v24H0V0z\" fill=\"none\"/>\n",
              "    <path d=\"M18.56 5.44l.94 2.06.94-2.06 2.06-.94-2.06-.94-.94-2.06-.94 2.06-2.06.94zm-11 1L8.5 8.5l.94-2.06 2.06-.94-2.06-.94L8.5 2.5l-.94 2.06-2.06.94zm10 10l.94 2.06.94-2.06 2.06-.94-2.06-.94-.94-2.06-.94 2.06-2.06.94z\"/><path d=\"M17.41 7.96l-1.37-1.37c-.4-.4-.92-.59-1.43-.59-.52 0-1.04.2-1.43.59L10.3 9.45l-7.72 7.72c-.78.78-.78 2.05 0 2.83L4 21.41c.39.39.9.59 1.41.59.51 0 1.02-.2 1.41-.59l7.78-7.78 2.81-2.81c.8-.78.8-2.07 0-2.86zM5.41 20L4 18.59l7.72-7.72 1.47 1.35L5.41 20z\"/>\n",
              "  </svg>\n",
              "      </button>\n",
              "      \n",
              "  <style>\n",
              "    .colab-df-container {\n",
              "      display:flex;\n",
              "      flex-wrap:wrap;\n",
              "      gap: 12px;\n",
              "    }\n",
              "\n",
              "    .colab-df-convert {\n",
              "      background-color: #E8F0FE;\n",
              "      border: none;\n",
              "      border-radius: 50%;\n",
              "      cursor: pointer;\n",
              "      display: none;\n",
              "      fill: #1967D2;\n",
              "      height: 32px;\n",
              "      padding: 0 0 0 0;\n",
              "      width: 32px;\n",
              "    }\n",
              "\n",
              "    .colab-df-convert:hover {\n",
              "      background-color: #E2EBFA;\n",
              "      box-shadow: 0px 1px 2px rgba(60, 64, 67, 0.3), 0px 1px 3px 1px rgba(60, 64, 67, 0.15);\n",
              "      fill: #174EA6;\n",
              "    }\n",
              "\n",
              "    [theme=dark] .colab-df-convert {\n",
              "      background-color: #3B4455;\n",
              "      fill: #D2E3FC;\n",
              "    }\n",
              "\n",
              "    [theme=dark] .colab-df-convert:hover {\n",
              "      background-color: #434B5C;\n",
              "      box-shadow: 0px 1px 3px 1px rgba(0, 0, 0, 0.15);\n",
              "      filter: drop-shadow(0px 1px 2px rgba(0, 0, 0, 0.3));\n",
              "      fill: #FFFFFF;\n",
              "    }\n",
              "  </style>\n",
              "\n",
              "      <script>\n",
              "        const buttonEl =\n",
              "          document.querySelector('#df-efa57b5c-2daa-485a-9869-a67f26fd01e8 button.colab-df-convert');\n",
              "        buttonEl.style.display =\n",
              "          google.colab.kernel.accessAllowed ? 'block' : 'none';\n",
              "\n",
              "        async function convertToInteractive(key) {\n",
              "          const element = document.querySelector('#df-efa57b5c-2daa-485a-9869-a67f26fd01e8');\n",
              "          const dataTable =\n",
              "            await google.colab.kernel.invokeFunction('convertToInteractive',\n",
              "                                                     [key], {});\n",
              "          if (!dataTable) return;\n",
              "\n",
              "          const docLinkHtml = 'Like what you see? Visit the ' +\n",
              "            '<a target=\"_blank\" href=https://colab.research.google.com/notebooks/data_table.ipynb>data table notebook</a>'\n",
              "            + ' to learn more about interactive tables.';\n",
              "          element.innerHTML = '';\n",
              "          dataTable['output_type'] = 'display_data';\n",
              "          await google.colab.output.renderOutput(dataTable, element);\n",
              "          const docLink = document.createElement('div');\n",
              "          docLink.innerHTML = docLinkHtml;\n",
              "          element.appendChild(docLink);\n",
              "        }\n",
              "      </script>\n",
              "    </div>\n",
              "  </div>\n",
              "  "
            ]
          },
          "metadata": {},
          "execution_count": 36
        }
      ]
    },
    {
      "cell_type": "code",
      "source": [
        "## Writing the generated rules based on support onto a excel file for business use.\n",
        "##\n",
        "\n",
        "w2 = pd.ExcelWriter('/content/drive/MyDrive/CODECLAUSE INTERNSHIP/Generated_Rules_supp.xlsx')\n",
        "assocn_rules_supp.to_excel(w2, 'Rules')\n",
        "w2.save()"
      ],
      "metadata": {
        "id": "JXSFD8oxLVQF"
      },
      "execution_count": 33,
      "outputs": []
    },
    {
      "cell_type": "code",
      "source": [
        "w2=pd.read_excel(\"/content/drive/MyDrive/CODECLAUSE INTERNSHIP/Generated_Rules_supp.xlsx\")\n",
        "w2"
      ],
      "metadata": {
        "colab": {
          "base_uri": "https://localhost:8080/",
          "height": 572
        },
        "id": "OzOIQzpeLfgk",
        "outputId": "e3a0938a-3ad4-49f5-b062-c16cafe5d75d"
      },
      "execution_count": 37,
      "outputs": [
        {
          "output_type": "execute_result",
          "data": {
            "text/plain": [
              "     Unnamed: 0                               antecedents  \\\n",
              "0             0                       frozenset({'milk'})   \n",
              "1             1                  frozenset({'spaghetti'})   \n",
              "2             2                   frozenset({'tomatoes'})   \n",
              "3             3                  frozenset({'spaghetti'})   \n",
              "4             4               frozenset({'french fries'})   \n",
              "..          ...                                       ...   \n",
              "615         615  frozenset({'mineral water', 'pancakes'})   \n",
              "616         616      frozenset({'chocolate', 'pancakes'})   \n",
              "617         617              frozenset({'mineral water'})   \n",
              "618         618                  frozenset({'chocolate'})   \n",
              "619         619                   frozenset({'pancakes'})   \n",
              "\n",
              "                                   consequents  antecedent support  \\\n",
              "0                     frozenset({'spaghetti'})            0.129583   \n",
              "1                          frozenset({'milk'})            0.174110   \n",
              "2                     frozenset({'spaghetti'})            0.068391   \n",
              "3                      frozenset({'tomatoes'})            0.174110   \n",
              "4                     frozenset({'spaghetti'})            0.170911   \n",
              "..                                         ...                 ...   \n",
              "615                   frozenset({'chocolate'})            0.033729   \n",
              "616               frozenset({'mineral water'})            0.019864   \n",
              "617       frozenset({'chocolate', 'pancakes'})            0.238368   \n",
              "618   frozenset({'mineral water', 'pancakes'})            0.163845   \n",
              "619  frozenset({'mineral water', 'chocolate'})            0.095054   \n",
              "\n",
              "     consequent support   support  confidence      lift  leverage  conviction  \n",
              "0              0.174110  0.035462    0.273663  1.571779  0.012900    1.137061  \n",
              "1              0.129583  0.035462    0.203675  1.571779  0.012900    1.093043  \n",
              "2              0.174110  0.020931    0.306043  1.757755  0.009023    1.190117  \n",
              "3              0.068391  0.020931    0.120214  1.757755  0.009023    1.058905  \n",
              "4              0.174110  0.027596    0.161466  0.927381 -0.002161    0.984922  \n",
              "..                  ...       ...         ...       ...       ...         ...  \n",
              "615            0.163845  0.009332    0.276680  1.688670  0.003806    1.155996  \n",
              "616            0.238368  0.009332    0.469799  1.970895  0.004597    1.436495  \n",
              "617            0.019864  0.009332    0.039150  1.970895  0.004597    1.020072  \n",
              "618            0.033729  0.009332    0.056957  1.688670  0.003806    1.024631  \n",
              "619            0.052660  0.009332    0.098177  1.864363  0.004327    1.050472  \n",
              "\n",
              "[620 rows x 10 columns]"
            ],
            "text/html": [
              "\n",
              "  <div id=\"df-d538f0f5-54f4-4351-a487-ec64db60b978\">\n",
              "    <div class=\"colab-df-container\">\n",
              "      <div>\n",
              "<style scoped>\n",
              "    .dataframe tbody tr th:only-of-type {\n",
              "        vertical-align: middle;\n",
              "    }\n",
              "\n",
              "    .dataframe tbody tr th {\n",
              "        vertical-align: top;\n",
              "    }\n",
              "\n",
              "    .dataframe thead th {\n",
              "        text-align: right;\n",
              "    }\n",
              "</style>\n",
              "<table border=\"1\" class=\"dataframe\">\n",
              "  <thead>\n",
              "    <tr style=\"text-align: right;\">\n",
              "      <th></th>\n",
              "      <th>Unnamed: 0</th>\n",
              "      <th>antecedents</th>\n",
              "      <th>consequents</th>\n",
              "      <th>antecedent support</th>\n",
              "      <th>consequent support</th>\n",
              "      <th>support</th>\n",
              "      <th>confidence</th>\n",
              "      <th>lift</th>\n",
              "      <th>leverage</th>\n",
              "      <th>conviction</th>\n",
              "    </tr>\n",
              "  </thead>\n",
              "  <tbody>\n",
              "    <tr>\n",
              "      <th>0</th>\n",
              "      <td>0</td>\n",
              "      <td>frozenset({'milk'})</td>\n",
              "      <td>frozenset({'spaghetti'})</td>\n",
              "      <td>0.129583</td>\n",
              "      <td>0.174110</td>\n",
              "      <td>0.035462</td>\n",
              "      <td>0.273663</td>\n",
              "      <td>1.571779</td>\n",
              "      <td>0.012900</td>\n",
              "      <td>1.137061</td>\n",
              "    </tr>\n",
              "    <tr>\n",
              "      <th>1</th>\n",
              "      <td>1</td>\n",
              "      <td>frozenset({'spaghetti'})</td>\n",
              "      <td>frozenset({'milk'})</td>\n",
              "      <td>0.174110</td>\n",
              "      <td>0.129583</td>\n",
              "      <td>0.035462</td>\n",
              "      <td>0.203675</td>\n",
              "      <td>1.571779</td>\n",
              "      <td>0.012900</td>\n",
              "      <td>1.093043</td>\n",
              "    </tr>\n",
              "    <tr>\n",
              "      <th>2</th>\n",
              "      <td>2</td>\n",
              "      <td>frozenset({'tomatoes'})</td>\n",
              "      <td>frozenset({'spaghetti'})</td>\n",
              "      <td>0.068391</td>\n",
              "      <td>0.174110</td>\n",
              "      <td>0.020931</td>\n",
              "      <td>0.306043</td>\n",
              "      <td>1.757755</td>\n",
              "      <td>0.009023</td>\n",
              "      <td>1.190117</td>\n",
              "    </tr>\n",
              "    <tr>\n",
              "      <th>3</th>\n",
              "      <td>3</td>\n",
              "      <td>frozenset({'spaghetti'})</td>\n",
              "      <td>frozenset({'tomatoes'})</td>\n",
              "      <td>0.174110</td>\n",
              "      <td>0.068391</td>\n",
              "      <td>0.020931</td>\n",
              "      <td>0.120214</td>\n",
              "      <td>1.757755</td>\n",
              "      <td>0.009023</td>\n",
              "      <td>1.058905</td>\n",
              "    </tr>\n",
              "    <tr>\n",
              "      <th>4</th>\n",
              "      <td>4</td>\n",
              "      <td>frozenset({'french fries'})</td>\n",
              "      <td>frozenset({'spaghetti'})</td>\n",
              "      <td>0.170911</td>\n",
              "      <td>0.174110</td>\n",
              "      <td>0.027596</td>\n",
              "      <td>0.161466</td>\n",
              "      <td>0.927381</td>\n",
              "      <td>-0.002161</td>\n",
              "      <td>0.984922</td>\n",
              "    </tr>\n",
              "    <tr>\n",
              "      <th>...</th>\n",
              "      <td>...</td>\n",
              "      <td>...</td>\n",
              "      <td>...</td>\n",
              "      <td>...</td>\n",
              "      <td>...</td>\n",
              "      <td>...</td>\n",
              "      <td>...</td>\n",
              "      <td>...</td>\n",
              "      <td>...</td>\n",
              "      <td>...</td>\n",
              "    </tr>\n",
              "    <tr>\n",
              "      <th>615</th>\n",
              "      <td>615</td>\n",
              "      <td>frozenset({'mineral water', 'pancakes'})</td>\n",
              "      <td>frozenset({'chocolate'})</td>\n",
              "      <td>0.033729</td>\n",
              "      <td>0.163845</td>\n",
              "      <td>0.009332</td>\n",
              "      <td>0.276680</td>\n",
              "      <td>1.688670</td>\n",
              "      <td>0.003806</td>\n",
              "      <td>1.155996</td>\n",
              "    </tr>\n",
              "    <tr>\n",
              "      <th>616</th>\n",
              "      <td>616</td>\n",
              "      <td>frozenset({'chocolate', 'pancakes'})</td>\n",
              "      <td>frozenset({'mineral water'})</td>\n",
              "      <td>0.019864</td>\n",
              "      <td>0.238368</td>\n",
              "      <td>0.009332</td>\n",
              "      <td>0.469799</td>\n",
              "      <td>1.970895</td>\n",
              "      <td>0.004597</td>\n",
              "      <td>1.436495</td>\n",
              "    </tr>\n",
              "    <tr>\n",
              "      <th>617</th>\n",
              "      <td>617</td>\n",
              "      <td>frozenset({'mineral water'})</td>\n",
              "      <td>frozenset({'chocolate', 'pancakes'})</td>\n",
              "      <td>0.238368</td>\n",
              "      <td>0.019864</td>\n",
              "      <td>0.009332</td>\n",
              "      <td>0.039150</td>\n",
              "      <td>1.970895</td>\n",
              "      <td>0.004597</td>\n",
              "      <td>1.020072</td>\n",
              "    </tr>\n",
              "    <tr>\n",
              "      <th>618</th>\n",
              "      <td>618</td>\n",
              "      <td>frozenset({'chocolate'})</td>\n",
              "      <td>frozenset({'mineral water', 'pancakes'})</td>\n",
              "      <td>0.163845</td>\n",
              "      <td>0.033729</td>\n",
              "      <td>0.009332</td>\n",
              "      <td>0.056957</td>\n",
              "      <td>1.688670</td>\n",
              "      <td>0.003806</td>\n",
              "      <td>1.024631</td>\n",
              "    </tr>\n",
              "    <tr>\n",
              "      <th>619</th>\n",
              "      <td>619</td>\n",
              "      <td>frozenset({'pancakes'})</td>\n",
              "      <td>frozenset({'mineral water', 'chocolate'})</td>\n",
              "      <td>0.095054</td>\n",
              "      <td>0.052660</td>\n",
              "      <td>0.009332</td>\n",
              "      <td>0.098177</td>\n",
              "      <td>1.864363</td>\n",
              "      <td>0.004327</td>\n",
              "      <td>1.050472</td>\n",
              "    </tr>\n",
              "  </tbody>\n",
              "</table>\n",
              "<p>620 rows × 10 columns</p>\n",
              "</div>\n",
              "      <button class=\"colab-df-convert\" onclick=\"convertToInteractive('df-d538f0f5-54f4-4351-a487-ec64db60b978')\"\n",
              "              title=\"Convert this dataframe to an interactive table.\"\n",
              "              style=\"display:none;\">\n",
              "        \n",
              "  <svg xmlns=\"http://www.w3.org/2000/svg\" height=\"24px\"viewBox=\"0 0 24 24\"\n",
              "       width=\"24px\">\n",
              "    <path d=\"M0 0h24v24H0V0z\" fill=\"none\"/>\n",
              "    <path d=\"M18.56 5.44l.94 2.06.94-2.06 2.06-.94-2.06-.94-.94-2.06-.94 2.06-2.06.94zm-11 1L8.5 8.5l.94-2.06 2.06-.94-2.06-.94L8.5 2.5l-.94 2.06-2.06.94zm10 10l.94 2.06.94-2.06 2.06-.94-2.06-.94-.94-2.06-.94 2.06-2.06.94z\"/><path d=\"M17.41 7.96l-1.37-1.37c-.4-.4-.92-.59-1.43-.59-.52 0-1.04.2-1.43.59L10.3 9.45l-7.72 7.72c-.78.78-.78 2.05 0 2.83L4 21.41c.39.39.9.59 1.41.59.51 0 1.02-.2 1.41-.59l7.78-7.78 2.81-2.81c.8-.78.8-2.07 0-2.86zM5.41 20L4 18.59l7.72-7.72 1.47 1.35L5.41 20z\"/>\n",
              "  </svg>\n",
              "      </button>\n",
              "      \n",
              "  <style>\n",
              "    .colab-df-container {\n",
              "      display:flex;\n",
              "      flex-wrap:wrap;\n",
              "      gap: 12px;\n",
              "    }\n",
              "\n",
              "    .colab-df-convert {\n",
              "      background-color: #E8F0FE;\n",
              "      border: none;\n",
              "      border-radius: 50%;\n",
              "      cursor: pointer;\n",
              "      display: none;\n",
              "      fill: #1967D2;\n",
              "      height: 32px;\n",
              "      padding: 0 0 0 0;\n",
              "      width: 32px;\n",
              "    }\n",
              "\n",
              "    .colab-df-convert:hover {\n",
              "      background-color: #E2EBFA;\n",
              "      box-shadow: 0px 1px 2px rgba(60, 64, 67, 0.3), 0px 1px 3px 1px rgba(60, 64, 67, 0.15);\n",
              "      fill: #174EA6;\n",
              "    }\n",
              "\n",
              "    [theme=dark] .colab-df-convert {\n",
              "      background-color: #3B4455;\n",
              "      fill: #D2E3FC;\n",
              "    }\n",
              "\n",
              "    [theme=dark] .colab-df-convert:hover {\n",
              "      background-color: #434B5C;\n",
              "      box-shadow: 0px 1px 3px 1px rgba(0, 0, 0, 0.15);\n",
              "      filter: drop-shadow(0px 1px 2px rgba(0, 0, 0, 0.3));\n",
              "      fill: #FFFFFF;\n",
              "    }\n",
              "  </style>\n",
              "\n",
              "      <script>\n",
              "        const buttonEl =\n",
              "          document.querySelector('#df-d538f0f5-54f4-4351-a487-ec64db60b978 button.colab-df-convert');\n",
              "        buttonEl.style.display =\n",
              "          google.colab.kernel.accessAllowed ? 'block' : 'none';\n",
              "\n",
              "        async function convertToInteractive(key) {\n",
              "          const element = document.querySelector('#df-d538f0f5-54f4-4351-a487-ec64db60b978');\n",
              "          const dataTable =\n",
              "            await google.colab.kernel.invokeFunction('convertToInteractive',\n",
              "                                                     [key], {});\n",
              "          if (!dataTable) return;\n",
              "\n",
              "          const docLinkHtml = 'Like what you see? Visit the ' +\n",
              "            '<a target=\"_blank\" href=https://colab.research.google.com/notebooks/data_table.ipynb>data table notebook</a>'\n",
              "            + ' to learn more about interactive tables.';\n",
              "          element.innerHTML = '';\n",
              "          dataTable['output_type'] = 'display_data';\n",
              "          await google.colab.output.renderOutput(dataTable, element);\n",
              "          const docLink = document.createElement('div');\n",
              "          docLink.innerHTML = docLinkHtml;\n",
              "          element.appendChild(docLink);\n",
              "        }\n",
              "      </script>\n",
              "    </div>\n",
              "  </div>\n",
              "  "
            ]
          },
          "metadata": {},
          "execution_count": 37
        }
      ]
    },
    {
      "cell_type": "code",
      "source": [],
      "metadata": {
        "id": "8NMvQefhLvkk"
      },
      "execution_count": null,
      "outputs": []
    }
  ],
  "metadata": {
    "colab": {
      "provenance": []
    },
    "kernelspec": {
      "display_name": "Python 3",
      "name": "python3"
    },
    "language_info": {
      "name": "python"
    }
  },
  "nbformat": 4,
  "nbformat_minor": 0
}